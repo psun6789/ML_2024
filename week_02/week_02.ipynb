{
 "cells": [
  {
   "cell_type": "markdown",
   "metadata": {},
   "source": [
    "# Week 02 ML ZoomCamp"
   ]
  },
  {
   "cell_type": "code",
   "execution_count": 37,
   "metadata": {},
   "outputs": [],
   "source": [
    "# import libraries\n",
    "import pandas as pd\n",
    "import numpy as np\n",
    "\n",
    "# import sklearn\n",
    "from sklearn.model_selection import train_test_split\n",
    "from sklearn.linear_model import LinearRegression, Ridge\n",
    "from sklearn.metrics import mean_squared_error\n",
    "\n",
    "import warnings\n",
    "warnings.filterwarnings('ignore')"
   ]
  },
  {
   "cell_type": "markdown",
   "metadata": {},
   "source": [
    "Next, use only the following columns:\n",
    "##### 'ram', 'storage', 'screen', 'final_price' \n",
    "\n",
    "EDA :\\\n",
    "Look at the final_price variable. Does it have a long tail?"
   ]
  },
  {
   "cell_type": "code",
   "execution_count": 38,
   "metadata": {},
   "outputs": [],
   "source": [
    "# Read CSV and select only specified columns, convert all capital to small cases\n",
    "def read(file_path):\n",
    "    df = pd.read_csv(file_path)\n",
    "    df_new = df[['RAM', 'Storage', 'Screen', 'Final Price']]\n",
    "    df_new = df_new.rename(columns={'Final Price':'final_price'})\n",
    "    df_new.columns = df_new.columns.str.lower().str.replace(' ', '_')\n",
    "    return df_new\n"
   ]
  },
  {
   "cell_type": "code",
   "execution_count": 39,
   "metadata": {},
   "outputs": [
    {
     "data": {
      "text/html": [
       "<div>\n",
       "<style scoped>\n",
       "    .dataframe tbody tr th:only-of-type {\n",
       "        vertical-align: middle;\n",
       "    }\n",
       "\n",
       "    .dataframe tbody tr th {\n",
       "        vertical-align: top;\n",
       "    }\n",
       "\n",
       "    .dataframe thead th {\n",
       "        text-align: right;\n",
       "    }\n",
       "</style>\n",
       "<table border=\"1\" class=\"dataframe\">\n",
       "  <thead>\n",
       "    <tr style=\"text-align: right;\">\n",
       "      <th></th>\n",
       "      <th>ram</th>\n",
       "      <th>storage</th>\n",
       "      <th>screen</th>\n",
       "      <th>final_price</th>\n",
       "    </tr>\n",
       "  </thead>\n",
       "  <tbody>\n",
       "    <tr>\n",
       "      <th>0</th>\n",
       "      <td>8</td>\n",
       "      <td>512</td>\n",
       "      <td>15.6</td>\n",
       "      <td>1009.0</td>\n",
       "    </tr>\n",
       "    <tr>\n",
       "      <th>1</th>\n",
       "      <td>8</td>\n",
       "      <td>256</td>\n",
       "      <td>15.6</td>\n",
       "      <td>299.0</td>\n",
       "    </tr>\n",
       "  </tbody>\n",
       "</table>\n",
       "</div>"
      ],
      "text/plain": [
       "   ram  storage  screen  final_price\n",
       "0    8      512    15.6       1009.0\n",
       "1    8      256    15.6        299.0"
      ]
     },
     "execution_count": 39,
     "metadata": {},
     "output_type": "execute_result"
    }
   ],
   "source": [
    "dataframe = read('data/laptops.csv')\n",
    "dataframe.head(2)"
   ]
  },
  {
   "cell_type": "markdown",
   "metadata": {},
   "source": [
    "## Question 1\n",
    "\n",
    "### There's one column with missing values. What is it?\n",
    "1) 'ram'\n",
    "2) 'storage'\n",
    "3) 'screen'\n",
    "4) 'final_price'\n",
    "\n",
    "#### Correct Answer is 'screen' column"
   ]
  },
  {
   "cell_type": "code",
   "execution_count": 40,
   "metadata": {},
   "outputs": [
    {
     "data": {
      "text/plain": [
       "ram            False\n",
       "storage        False\n",
       "screen          True\n",
       "final_price    False\n",
       "dtype: bool"
      ]
     },
     "execution_count": 40,
     "metadata": {},
     "output_type": "execute_result"
    }
   ],
   "source": [
    "dataframe.isnull().sum()>0"
   ]
  },
  {
   "cell_type": "markdown",
   "metadata": {},
   "source": [
    "## Question 2\n",
    "### What's the median (50% percentile) for variable 'ram'?\n",
    "1) 8\n",
    "2) 16\n",
    "3) 24\n",
    "4) 32\n",
    "\n",
    "#### Correct Answer is 2) 16"
   ]
  },
  {
   "cell_type": "code",
   "execution_count": 41,
   "metadata": {},
   "outputs": [
    {
     "data": {
      "text/plain": [
       "np.float64(16.0)"
      ]
     },
     "execution_count": 41,
     "metadata": {},
     "output_type": "execute_result"
    }
   ],
   "source": [
    "dataframe['ram'].median()"
   ]
  },
  {
   "cell_type": "markdown",
   "metadata": {},
   "source": [
    "****** End of Question 2 ******"
   ]
  },
  {
   "cell_type": "markdown",
   "metadata": {},
   "source": [
    "## Question 3\n",
    "\n",
    "Prepare and split the dataset\\\n",
    "Shuffle the dataset (the filtered one you created above), use seed 42.\\\n",
    "Split your data in train/val/test sets, with 60%/20%/20% distribution.\n",
    "\n",
    "We need to deal with missing values for the column from Q1.\\\n",
    "We have two options: fill it with 0 or with the mean of this variable.\\\n",
    "Try both options. For each, train a linear regression model without regularization using the code from the lessons.\\\n",
    "For computing the mean, use the training only!\\\n",
    "Use the validation dataset to evaluate the models and compare the RMSE of each option.\\\n",
    "Round the RMSE scores to 2 decimal digits using round(score, 2)\n",
    "\n",
    "### Which option gives better RMSE?\n",
    "Options:\n",
    "1) With 0\n",
    "2) With mean\n",
    "3) Both are equally good\n",
    "\n",
    "#### option 1) filling with 0 value"
   ]
  },
  {
   "cell_type": "code",
   "execution_count": 42,
   "metadata": {},
   "outputs": [],
   "source": [
    "# Shuffel the dataset with random seed 42\n",
    "# splitting the data into train validation and test 60:20:20 ratio\n",
    "#\n",
    "def split_dataset(dataframe):\n",
    "    dataframe_new = dataframe.sample(frac=1, random_state=42)\n",
    "    train, val_test = train_test_split(dataframe_new, test_size=0.4, random_state=42)\n",
    "    val, test = train_test_split(val_test, test_size=0.5, random_state=42)\n",
    "    return train, val, test"
   ]
  },
  {
   "cell_type": "code",
   "execution_count": 43,
   "metadata": {},
   "outputs": [
    {
     "name": "stdout",
     "output_type": "stream",
     "text": [
      "Size of the Dataframe = 2160\n",
      "Size of the Training data = 1296\n",
      "Size of the Validation data = 432\n",
      "Size of the Test data = 432\n"
     ]
    }
   ],
   "source": [
    "train, val, test = split_dataset(dataframe)\n",
    "\n",
    "# Lets check if the data is split into proper ratio or not\n",
    "print(f'Size of the Dataframe = {len(dataframe)}')\n",
    "print(f'Size of the Training data = {len(train)}')\n",
    "print(f'Size of the Validation data = {len(val)}')\n",
    "print(f'Size of the Test data = {len(test)}')"
   ]
  },
  {
   "cell_type": "code",
   "execution_count": 44,
   "metadata": {},
   "outputs": [],
   "source": [
    "# Lest first copy the data before performing filling mean and 0 values\n",
    "train_zero = train.copy()\n",
    "val_zero = val.copy()\n",
    "\n",
    "train_mean = train.copy()\n",
    "val_mean = val.copy()"
   ]
  },
  {
   "cell_type": "code",
   "execution_count": 45,
   "metadata": {},
   "outputs": [],
   "source": [
    "# Lets implement Linear Regression with Zero fill\n",
    "\n",
    "def linear_regression(train, val, regularisation):\n",
    "\n",
    "    if regularisation == 'zero':\n",
    "        train_ = train.copy()\n",
    "        val_ = val.copy()\n",
    "        train_['screen'].fillna(0, inplace=True)\n",
    "        val_['screen'].fillna(0, inplace=True)\n",
    "\n",
    "    elif regularisation == 'mean':\n",
    "\n",
    "        mean_value = train['screen'].mean()\n",
    "        train_ = train.copy()\n",
    "        val_ = val.copy()\n",
    "\n",
    "        train_['screen'].fillna(mean_value, inplace=True)\n",
    "        val_['screen'].fillna(mean_value, inplace=True)\n",
    "\n",
    "    X_train = train_.drop('final_price', axis=1) \n",
    "    y_train = train_['final_price']\n",
    "    X_val = val_.drop('final_price', axis=1)\n",
    "    y_val = val_['final_price']\n",
    "\n",
    "    zero_fill_model = LinearRegression()\n",
    "    zero_fill_model.fit(X_train, y_train)\n",
    "\n",
    "    y_predict_zero = zero_fill_model.predict(X_val)\n",
    "    rmse_score = round(np.sqrt(mean_squared_error(y_val, y_predict_zero)), 2)\n",
    "\n",
    "    return rmse_score"
   ]
  },
  {
   "cell_type": "code",
   "execution_count": 46,
   "metadata": {},
   "outputs": [
    {
     "name": "stdout",
     "output_type": "stream",
     "text": [
      "RMSE score with zero fill = 675.08\n",
      "RMSE score with mean value fill = 675.16\n"
     ]
    }
   ],
   "source": [
    "rmse_zero = linear_regression(train,val, 'zero')\n",
    "rmse_mean = linear_regression(train,val, 'mean')\n",
    "print(f'RMSE score with zero fill = {rmse_zero}')\n",
    "print(f'RMSE score with mean value fill = {rmse_mean}')"
   ]
  },
  {
   "cell_type": "code",
   "execution_count": 47,
   "metadata": {},
   "outputs": [
    {
     "name": "stdout",
     "output_type": "stream",
     "text": [
      "Filling with 0 gives better RMSE\n"
     ]
    }
   ],
   "source": [
    "if rmse_zero < rmse_mean:\n",
    "    print(\"Filling with 0 gives better RMSE\")\n",
    "elif rmse_mean < rmse_zero:\n",
    "    print(\"Filling with mean gives better RMSE\")\n",
    "else:\n",
    "    print(\"Both options are equally good\")"
   ]
  },
  {
   "cell_type": "markdown",
   "metadata": {},
   "source": [
    "****** End of Question 3 ******"
   ]
  },
  {
   "cell_type": "markdown",
   "metadata": {},
   "source": [
    "## Question 4\n",
    "Now let's train a regularized linear regression. \\\n",
    "For this question, fill the NAs with 0.\\\n",
    "Try different values of r from this list: [0, 0.01, 0.1, 1, 5, 10, 100].\\\n",
    "Use RMSE to evaluate the model on the validation dataset.\\\n",
    "Round the RMSE scores to 2 decimal digits.\\\n",
    "\n",
    "### Which r gives the best RMSE?\n",
    "If there are multiple options, select the smallest r.\n",
    "\n",
    "Options:\n",
    "1) 0\n",
    "2) 0.01\n",
    "3) 1\n",
    "4) 10\n",
    "5) 100\n",
    "\n",
    "#### Option 5) 100"
   ]
  },
  {
   "cell_type": "code",
   "execution_count": 50,
   "metadata": {},
   "outputs": [],
   "source": [
    "# Lets implement Linear Regression with Zero fill\n",
    "\n",
    "def ridge(train, val):\n",
    "\n",
    "\n",
    "    train_ = train.copy()\n",
    "    val_ = val.copy()\n",
    "    train_['screen'].fillna(0, inplace=True)\n",
    "    val_['screen'].fillna(0, inplace=True)\n",
    "\n",
    "\n",
    "    X_train = train_.drop('final_price', axis=1) \n",
    "    y_train = train_['final_price']\n",
    "    X_val = val_.drop('final_price', axis=1)\n",
    "    y_val = val_['final_price']\n",
    "\n",
    "    # List of r (regularization strength) values to try\n",
    "    r_values = [0, 0.01, 0.1, 1, 5, 10, 100]\n",
    "    best_r = None\n",
    "    best_rmse = float('inf')\n",
    "\n",
    "    # Loop over r values\n",
    "    for r in r_values:\n",
    "        # Train Ridge regression model with regularization strength r\n",
    "        model_ridge = Ridge(alpha=r)\n",
    "        model_ridge.fit(X_train, y_train)\n",
    "        \n",
    "        # Predict on validation set\n",
    "        y_pred = model_ridge.predict(X_val)\n",
    "        \n",
    "        # Calculate RMSE\n",
    "        rmse = np.sqrt(mean_squared_error(y_val, y_pred))\n",
    "        rmse = round(rmse, 2)\n",
    "        \n",
    "        # Print RMSE for each r\n",
    "        print(f\"RMSE with r={r}: {rmse}\")\n",
    "        \n",
    "        # Check if this is the best RMSE and update accordingly\n",
    "        if rmse < best_rmse:\n",
    "            best_rmse = rmse\n",
    "            best_r = r\n",
    "\n",
    "    print(f\"Best r value: {best_r} with RMSE: {best_rmse}\")"
   ]
  },
  {
   "cell_type": "code",
   "execution_count": 51,
   "metadata": {},
   "outputs": [
    {
     "name": "stdout",
     "output_type": "stream",
     "text": [
      "RMSE with r=0: 675.08\n",
      "RMSE with r=0.01: 675.08\n",
      "RMSE with r=0.1: 675.08\n",
      "RMSE with r=1: 675.08\n",
      "RMSE with r=5: 675.08\n",
      "RMSE with r=10: 675.08\n",
      "RMSE with r=100: 675.01\n",
      "Best r value: 100 with RMSE: 675.01\n"
     ]
    }
   ],
   "source": [
    "ridge(train, val)"
   ]
  },
  {
   "cell_type": "markdown",
   "metadata": {},
   "source": [
    "***** end of Question 4 ****"
   ]
  },
  {
   "cell_type": "markdown",
   "metadata": {},
   "source": [
    "## Question 5\n",
    "We used seed 42 for splitting the data. Let's find out how selecting the seed influences our score.\\\n",
    "Try different seed values: [0, 1, 2, 3, 4, 5, 6, 7, 8, 9].\\\n",
    "For each seed, do the train/validation/test split with 60%/20%/20% distribution.\\\n",
    "Fill the missing values with 0 and train a model without regularization.\\\n",
    "For each seed, evaluate the model on the validation dataset and collect the RMSE scores.\\\n",
    "What's the standard deviation of all the scores? To compute the standard deviation, use np.std.\\\n",
    "Round the result to 3 decimal digits (round(std, 3))\n",
    "\n",
    "### What's the value of std?\n",
    "1) 19.176\n",
    "2) 29.176\n",
    "3) 39.176\n",
    "4) 49.176\n",
    "\n",
    "Note: Standard deviation shows how different the values are. If it's low, then all values are approximately the same. If it's high, the values are different. If standard deviation of scores is low, then our model is stable."
   ]
  },
  {
   "cell_type": "code",
   "execution_count": 52,
   "metadata": {},
   "outputs": [
    {
     "name": "stdout",
     "output_type": "stream",
     "text": [
      "RMSE scores: [np.float64(614.85), np.float64(618.61), np.float64(597.36), np.float64(627.3), np.float64(575.78), np.float64(558.34), np.float64(595.68), np.float64(562.84), np.float64(575.49), np.float64(564.54)]\n",
      "Standard deviation of RMSE scores: 23.888\n"
     ]
    }
   ],
   "source": [
    "seeds = [0, 1, 2, 3, 4, 5, 6, 7, 8, 9]\n",
    "rmse_scores = []\n",
    "\n",
    "for seed in seeds:\n",
    "    # Shuffle and split the dataset\n",
    "    df_shuffled = dataframe.sample(frac=1, random_state=seed)\n",
    "    train, temp = train_test_split(df_shuffled, test_size=0.4, random_state=seed)\n",
    "    val, test = train_test_split(temp, test_size=0.5, random_state=seed)\n",
    "    \n",
    "    # Fill missing values with 0\n",
    "    train_ = train.copy()\n",
    "    val_ = val.copy()\n",
    "    train_['screen'].fillna(0, inplace=True)\n",
    "    val_['screen'].fillna(0, inplace=True)\n",
    "\n",
    "    # Prepare features and target\n",
    "    X_train = train_.drop('final_price', axis=1)  # Adjust 'Final Price' as needed\n",
    "    y_train = train_['final_price']\n",
    "    X_val = val_.drop('final_price', axis=1)\n",
    "    y_val = val_['final_price']\n",
    "\n",
    "    # Train the linear regression model\n",
    "    model = LinearRegression()\n",
    "    model.fit(X_train, y_train)\n",
    "\n",
    "    # Predict on validation set and compute RMSE\n",
    "    y_pred = model.predict(X_val)\n",
    "    rmse = np.sqrt(mean_squared_error(y_val, y_pred))\n",
    "    \n",
    "    # Round RMSE before appending\n",
    "    rmse_scores.append(round(rmse, 2))\n",
    "\n",
    "# Compute standard deviation of RMSE scores\n",
    "std = round(np.std(rmse_scores), 3)\n",
    "\n",
    "# Print RMSE scores and the standard deviation\n",
    "print(f\"RMSE scores: {rmse_scores}\")\n",
    "print(f\"Standard deviation of RMSE scores: {std}\")\n"
   ]
  },
  {
   "cell_type": "markdown",
   "metadata": {},
   "source": [
    "## Question 6\n",
    "Split the dataset like previously, use seed 9.\\\n",
    "Combine train and validation datasets.\\\n",
    "Fill the missing values with 0 and train a model with r=0.001.\n",
    "\n",
    "### What's the RMSE on the test dataset?\n",
    "Options:\n",
    "1) 598.60\n",
    "2) 608.60\n",
    "3) 618.60\n",
    "4) 628.60"
   ]
  },
  {
   "cell_type": "code",
   "execution_count": 53,
   "metadata": {},
   "outputs": [
    {
     "name": "stdout",
     "output_type": "stream",
     "text": [
      "RMSE on the test dataset: 552.86\n"
     ]
    }
   ],
   "source": [
    "# Step 1: Shuffle and split the dataset using seed 9\n",
    "seed = 9\n",
    "df_shuffled = dataframe.sample(frac=1, random_state=seed)\n",
    "train, temp = train_test_split(df_shuffled, test_size=0.4, random_state=seed)\n",
    "val, test = train_test_split(temp, test_size=0.5, random_state=seed)\n",
    "\n",
    "# Step 2: Combine train and validation datasets\n",
    "train_val_combined = pd.concat([train, val], ignore_index=True)\n",
    "\n",
    "# Step 3: Fill missing values with 0\n",
    "train_val_combined['screen'].fillna(0, inplace=True)\n",
    "\n",
    "# Prepare features and target\n",
    "X_train_val = train_val_combined.drop('final_price', axis=1)  # Adjust 'Final Price' as needed\n",
    "y_train_val = train_val_combined['final_price']\n",
    "\n",
    "# Step 4: Train a Ridge regression model with r=0.001\n",
    "r = 0.001\n",
    "model = Ridge(alpha=r)  # Use alpha as the regularization parameter for Ridge\n",
    "model.fit(X_train_val, y_train_val)\n",
    "\n",
    "# Step 5: Evaluate the model on the test dataset\n",
    "# Fill missing values in the test set\n",
    "test['screen'].fillna(0, inplace=True)\n",
    "X_test = test.drop('final_price', axis=1)\n",
    "y_test = test['final_price']\n",
    "\n",
    "# Predict and calculate RMSE\n",
    "y_pred_test = model.predict(X_test)\n",
    "rmse_test = np.sqrt(mean_squared_error(y_test, y_pred_test))\n",
    "\n",
    "# Print the RMSE on the test dataset\n",
    "print(f\"RMSE on the test dataset: {round(rmse_test, 2)}\")\n"
   ]
  },
  {
   "cell_type": "markdown",
   "metadata": {},
   "source": [
    "### Note:\n",
    "Question 5 and 6 Score are nearest to the options provided"
   ]
  },
  {
   "cell_type": "markdown",
   "metadata": {},
   "source": []
  }
 ],
 "metadata": {
  "kernelspec": {
   "display_name": "ml_zoomcamp_datatalks_2024",
   "language": "python",
   "name": "python3"
  },
  "language_info": {
   "codemirror_mode": {
    "name": "ipython",
    "version": 3
   },
   "file_extension": ".py",
   "mimetype": "text/x-python",
   "name": "python",
   "nbconvert_exporter": "python",
   "pygments_lexer": "ipython3",
   "version": "3.9.19"
  }
 },
 "nbformat": 4,
 "nbformat_minor": 2
}
